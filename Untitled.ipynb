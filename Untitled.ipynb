{
 "cells": [
  {
   "cell_type": "code",
   "execution_count": 46,
   "metadata": {},
   "outputs": [
    {
     "data": {
      "text/plain": [
       "'/home/qusandbox7/crawler'"
      ]
     },
     "execution_count": 46,
     "metadata": {},
     "output_type": "execute_result"
    }
   ],
   "source": [
    "import os\n",
    "os.getcwd()\n",
    "# add the current path to PATH for selenium to load driver, must have a true chrome browser."
   ]
  },
  {
   "cell_type": "code",
   "execution_count": 3,
   "metadata": {},
   "outputs": [
    {
     "name": "stdout",
     "output_type": "stream",
     "text": [
      "Defaulting to user installation because normal site-packages is not writeable\n",
      "Requirement already satisfied: selenium in /home/qusandbox7/.local/lib/python3.6/site-packages (3.141.0)\n",
      "Requirement already satisfied: urllib3 in /usr/local/lib/python3.6/dist-packages (from selenium) (1.24.1)\n",
      "--2020-06-24 20:36:20--  https://chromedriver.storage.googleapis.com/81.0.4044.138/chromedriver_linux64.zip\n",
      "Resolving chromedriver.storage.googleapis.com (chromedriver.storage.googleapis.com)... 172.217.11.48, 2607:f8b0:4006:815::2010\n",
      "Connecting to chromedriver.storage.googleapis.com (chromedriver.storage.googleapis.com)|172.217.11.48|:443... connected.\n",
      "HTTP request sent, awaiting response... 200 OK\n",
      "Length: 4969860 (4.7M) [application/zip]\n",
      "Saving to: ‘chromedriver_linux64.zip’\n",
      "\n",
      "chromedriver_linux6 100%[===================>]   4.74M  28.0MB/s    in 0.2s    \n",
      "\n",
      "2020-06-24 20:36:21 (28.0 MB/s) - ‘chromedriver_linux64.zip’ saved [4969860/4969860]\n",
      "\n",
      "Archive:  chromedriver_linux64.zip\n",
      "  inflating: chromedriver            \n"
     ]
    }
   ],
   "source": [
    "!pip install selenium\n",
    "!wget https://chromedriver.storage.googleapis.com/81.0.4044.138/chromedriver_linux64.zip\n",
    "!unzip chromedriver_linux64.zip"
   ]
  },
  {
   "cell_type": "code",
   "execution_count": 11,
   "metadata": {},
   "outputs": [],
   "source": [
    "from selenium import webdriver\n",
    "from selenium.webdriver.common.by import By\n",
    "from selenium.webdriver.support.ui import WebDriverWait\n",
    "from selenium.webdriver.support import expected_conditions as EC\n",
    "from bs4 import BeautifulSoup\n",
    "import time"
   ]
  },
  {
   "cell_type": "code",
   "execution_count": 6,
   "metadata": {},
   "outputs": [],
   "source": [
    "def crawler(part):\n",
    "    url = \"https://seekingalpha.com\" + part +\"?part=single\"\n",
    "    driver = webdriver.Chrome()\n",
    "    driver.get(url)\n",
    "    try:\n",
    "        soup = BeautifulSoup(driver.page_source, \"lxml\")\n",
    "    finally:\n",
    "        pass\n",
    "    driver.quit()\n",
    "    title = soup.find_all('h1')\n",
    "    fname = title[0].get_text()\n",
    "    Tags = soup.find_all('p')\n",
    "    with open(fname + '.csv','wb') as file:\n",
    "        for p in Tags:\n",
    "            file.write((p.get_text()+'\\n').encode())"
   ]
  },
  {
   "cell_type": "code",
   "execution_count": 8,
   "metadata": {},
   "outputs": [],
   "source": [
    "# just change /2 to /3 or any for others or have another for loop\n",
    "url = \"https://seekingalpha.com/earnings/earnings-call-transcripts/2\"\n",
    "driver = webdriver.Chrome()\n",
    "driver.get(url)\n",
    "try: \n",
    "    soup = BeautifulSoup(driver.page_source, \"lxml\")\n",
    "finally:\n",
    "    pass\n",
    "driver.quit()\n",
    "hrefs = soup.find_all('a', href=True, attrs={'class' : 'dashboard-article-link'})\n",
    "links=[]\n",
    "for a in hrefs:\n",
    "    links.append(a['href'])"
   ]
  },
  {
   "cell_type": "code",
   "execution_count": 52,
   "metadata": {},
   "outputs": [],
   "source": [
    "for link in links:\n",
    "    crawler(link)\n",
    "    time.sleep(20)"
   ]
  }
 ],
 "metadata": {
  "kernelspec": {
   "display_name": "Python 3",
   "language": "python",
   "name": "python3"
  },
  "language_info": {
   "codemirror_mode": {
    "name": "ipython",
    "version": 3
   },
   "file_extension": ".py",
   "mimetype": "text/x-python",
   "name": "python",
   "nbconvert_exporter": "python",
   "pygments_lexer": "ipython3",
   "version": "3.6.9"
  }
 },
 "nbformat": 4,
 "nbformat_minor": 2
}